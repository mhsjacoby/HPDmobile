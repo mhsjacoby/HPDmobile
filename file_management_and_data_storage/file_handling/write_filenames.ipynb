{
 "cells": [
  {
   "cell_type": "code",
   "execution_count": 1,
   "metadata": {},
   "outputs": [],
   "source": [
    "import os\n",
    "import csv\n",
    "import json\n",
    "import shutil\n",
    "from glob import glob\n",
    "from datetime import datetime\n",
    "\n",
    "from my_functions import *\n",
    "# imports functions: mylistdir, make_storage_directory, and get_date_list"
   ]
  },
  {
   "cell_type": "markdown",
   "metadata": {},
   "source": [
    "***\n",
    "## Whole sheet inputs"
   ]
  },
  {
   "cell_type": "code",
   "execution_count": 2,
   "metadata": {},
   "outputs": [],
   "source": [
    "\n",
    "# Local file storage\n",
    "local_save_path = '/Users/maggie/Desktop/HDstorage/'\n",
    "\n",
    "# Final location for compressed file storage\n",
    "dest_for_compressed = '/Volumes/SAMSUNG-4/'\n",
    "\n",
    "start_end_file = 'start_end_dates.json'\n",
    "\n",
    "# Path to home files (external HD)\n",
    "# from_path = '/Volumes/TOSHIBA-18/H6-black/'"
   ]
  },
  {
   "cell_type": "code",
   "execution_count": 41,
   "metadata": {},
   "outputs": [
    {
     "ename": "FileNotFoundError",
     "evalue": "[Errno 2] No such file or directory: 'start_end_dates.json'",
     "output_type": "error",
     "traceback": [
      "\u001b[0;31m---------------------------------------------------------------------------\u001b[0m",
      "\u001b[0;31mFileNotFoundError\u001b[0m                         Traceback (most recent call last)",
      "\u001b[0;32m<ipython-input-41-561e11702bcd>\u001b[0m in \u001b[0;36m<module>\u001b[0;34m\u001b[0m\n\u001b[1;32m      3\u001b[0m \u001b[0;31m# hub_paths = glob(os.path.join(from_path, f'{color}S*'))\u001b[0m\u001b[0;34m\u001b[0m\u001b[0;34m\u001b[0m\u001b[0;34m\u001b[0m\u001b[0m\n\u001b[1;32m      4\u001b[0m \u001b[0;34m\u001b[0m\u001b[0m\n\u001b[0;32m----> 5\u001b[0;31m \u001b[0mall_days\u001b[0m \u001b[0;34m=\u001b[0m \u001b[0mget_date_list\u001b[0m\u001b[0;34m(\u001b[0m\u001b[0mread_file\u001b[0m\u001b[0;34m=\u001b[0m\u001b[0mstart_end_file\u001b[0m\u001b[0;34m,\u001b[0m \u001b[0mH_num\u001b[0m\u001b[0;34m=\u001b[0m\u001b[0mhome\u001b[0m\u001b[0;34m)\u001b[0m\u001b[0;34m\u001b[0m\u001b[0;34m\u001b[0m\u001b[0m\n\u001b[0m\u001b[1;32m      6\u001b[0m \u001b[0mprint\u001b[0m\u001b[0;34m(\u001b[0m\u001b[0;34mf'Number of days in home {home}: {len(all_days)}'\u001b[0m\u001b[0;34m)\u001b[0m\u001b[0;34m\u001b[0m\u001b[0;34m\u001b[0m\u001b[0m\n\u001b[1;32m      7\u001b[0m \u001b[0mprint\u001b[0m\u001b[0;34m(\u001b[0m\u001b[0;34m'Hub paths:'\u001b[0m\u001b[0;34m)\u001b[0m\u001b[0;34m\u001b[0m\u001b[0;34m\u001b[0m\u001b[0m\n",
      "\u001b[0;32m~/Documents/Github/BasicPythonToolsFunctions/my_functions.py\u001b[0m in \u001b[0;36mget_date_list\u001b[0;34m(read_file, H_num)\u001b[0m\n\u001b[1;32m     32\u001b[0m \u001b[0;32mdef\u001b[0m \u001b[0mget_date_list\u001b[0m\u001b[0;34m(\u001b[0m\u001b[0mread_file\u001b[0m\u001b[0;34m,\u001b[0m \u001b[0mH_num\u001b[0m\u001b[0;34m)\u001b[0m\u001b[0;34m:\u001b[0m\u001b[0;34m\u001b[0m\u001b[0;34m\u001b[0m\u001b[0m\n\u001b[1;32m     33\u001b[0m \u001b[0;34m\u001b[0m\u001b[0m\n\u001b[0;32m---> 34\u001b[0;31m     \u001b[0;32mwith\u001b[0m \u001b[0mopen\u001b[0m\u001b[0;34m(\u001b[0m\u001b[0mread_file\u001b[0m\u001b[0;34m)\u001b[0m \u001b[0;32mas\u001b[0m \u001b[0mf\u001b[0m\u001b[0;34m:\u001b[0m\u001b[0;34m\u001b[0m\u001b[0;34m\u001b[0m\u001b[0m\n\u001b[0m\u001b[1;32m     35\u001b[0m         \u001b[0mall_homes\u001b[0m \u001b[0;34m=\u001b[0m \u001b[0mjson\u001b[0m\u001b[0;34m.\u001b[0m\u001b[0mload\u001b[0m\u001b[0;34m(\u001b[0m\u001b[0mf\u001b[0m\u001b[0;34m)\u001b[0m\u001b[0;34m\u001b[0m\u001b[0;34m\u001b[0m\u001b[0m\n\u001b[1;32m     36\u001b[0m \u001b[0;34m\u001b[0m\u001b[0m\n",
      "\u001b[0;31mFileNotFoundError\u001b[0m: [Errno 2] No such file or directory: 'start_end_dates.json'"
     ]
    }
   ],
   "source": [
    "\n",
    "\n",
    "# home, c = os.path.basename(from_path.strip('/')).split('-')\n",
    "# color = c[0].upper()\n",
    "# hub_paths = glob(os.path.join(from_path, f'{color}S*'))\n",
    "    \n",
    "all_days = get_date_list(read_file=start_end_file, H_num=home)\n",
    "print(f'Number of days in home {home}: {len(all_days)}')\n",
    "print('Hub paths:')\n",
    "for hub in hub_paths:\n",
    "    print(hub)"
   ]
  },
  {
   "cell_type": "markdown",
   "metadata": {},
   "source": [
    "***\n",
    "## A. Dark Image Lists\n",
    "Final csv files should be in form:  \n",
    "`HOME_DARKIMAGES.zip/HOME_HUB_DARKIMAGES/date_hub_home_dark-images.csv`\n",
    "\n",
    "1. Re-write the (date-appropriate) json files (stored in `hub_path`) to `.csv` files stored in the `local_save_path`. \n",
    "2. Compress the final folder to `dest_for_compressed`."
   ]
  },
  {
   "cell_type": "markdown",
   "metadata": {},
   "source": [
    "### 1. Rewrite Dark image JSON files to csvs and rename storage directories"
   ]
  },
  {
   "cell_type": "code",
   "execution_count": 10,
   "metadata": {},
   "outputs": [
    {
     "name": "stdout",
     "output_type": "stream",
     "text": [
      "BS2 38\n",
      "BS3 38\n",
      "BS4 38\n",
      "BS5 38\n"
     ]
    }
   ],
   "source": [
    "save_loc = make_storage_directory(os.path.join(local_save_path, home, f'{home}_DARKIMAGES'))\n",
    "\n",
    "\n",
    "for hub_path in hub_paths:\n",
    "    hub = os.path.basename(hub_path.strip('/'))\n",
    "    save_dirname = f'{home}_{hub}_DARKIMAGES'\n",
    "#     print(os.path.join(save_loc, save_dirname))\n",
    "    save_hub_dir = make_storage_directory(os.path.join(save_loc, save_dirname))\n",
    "    all_files = glob(os.path.join(hub_path, '*-img-pkl', 'black_image_dicts', '*.json'))\n",
    "    files_to_process = [f for f in all_files if os.path.basename(f).strip('_dark_images.json') in all_days]\n",
    "    print(hub, len(files_to_process))\n",
    "    for json_file in files_to_process:\n",
    "        day = os.path.basename(json_file).strip('_dark_images.json')\n",
    "        with open(json_file) as json_file:\n",
    "            data = json.load(json_file)\n",
    "            times = []\n",
    "            for key in data:\n",
    "                times.extend(data[key])\n",
    "        timestamps = sorted([datetime.strptime(f'{day} {time}', '%Y-%m-%d %H%M%S') for time in times])\n",
    "        timestamps = [[ts] for ts in timestamps]\n",
    "\n",
    "        csv_file = os.path.join(save_hub_dir, f'{day}_{hub}_{home}_darkimages.csv')\n",
    "        write_file = open(csv_file, 'w+')\n",
    "        with write_file:\n",
    "            csv_writer = csv.writer(write_file)\n",
    "            csv_writer.writerows(timestamps)"
   ]
  },
  {
   "cell_type": "markdown",
   "metadata": {},
   "source": [
    "### 2. Compress dark image files to harddrive"
   ]
  },
  {
   "cell_type": "code",
   "execution_count": 11,
   "metadata": {},
   "outputs": [
    {
     "name": "stdout",
     "output_type": "stream",
     "text": [
      "from: /Users/maggie/Desktop/HDstorage/H6/H6_DARKIMAGES to: /Volumes/SAMSUNG-4/H6/H6_DARKIMAGES\n"
     ]
    },
    {
     "data": {
      "text/plain": [
       "'/Volumes/SAMSUNG-4/H6/H6_DARKIMAGES.zip'"
      ]
     },
     "execution_count": 11,
     "metadata": {},
     "output_type": "execute_result"
    }
   ],
   "source": [
    "to_path = make_storage_directory(os.path.join(dest_for_compressed, home))\n",
    "\n",
    "to_compress = os.path.join(local_save_path, home, f'{home}_DARKIMAGES')\n",
    "destination = os.path.join(to_path, os.path.basename(to_compress.strip('/')))\n",
    "\n",
    "print(f'from: {to_compress} to: {destination}')\n",
    "shutil.make_archive(destination, 'zip', to_compress)"
   ]
  },
  {
   "cell_type": "markdown",
   "metadata": {},
   "source": [
    "***\n",
    "## B. Images\n",
    "\n",
    "Final images should be in form:  \n",
    "`from_path/hub/HOME_HUB_IMAGES/date/minute/date_time_hub_home.png`. <br>\n",
    "where `date`, `minute`, and `time` are `YYYY-mm-dd`, `hhmm`, and `hhmmss`, respectively.\n",
    "\n",
    "Zip files should be stored on `dest_for_compressed` under `HOME_HUB_IMAGES.zip`\n",
    "\n",
    "1. Create new day-wise folder of copied images to include on `from_path` by moving ones NOT to compress to archived folder.\n",
    "2. Compress images to external `dest_for_compressed`.\n"
   ]
  },
  {
   "cell_type": "markdown",
   "metadata": {},
   "source": [
    "### 1. Move image day-files not part of the set to an archive folder"
   ]
  },
  {
   "cell_type": "code",
   "execution_count": 4,
   "metadata": {},
   "outputs": [
    {
     "name": "stdout",
     "output_type": "stream",
     "text": [
      "BS2 38 0\n",
      "BS3 38 0\n",
      "BS4 38 0\n",
      "BS5 38 0\n"
     ]
    }
   ],
   "source": [
    "for hub_path in hub_paths:\n",
    "    hub = os.path.basename(hub_path.strip('/'))\n",
    "    day_files = glob(os.path.join(hub_path, 'img-downsized-32', '2019-*'))\n",
    "    move_files = [f for f in day_files if os.path.basename(f) not in all_days]\n",
    "    print(hub, len(day_files), len(move_files))\n",
    "    target_dir = make_storage_directory(os.path.join(hub_path, 'img-downsized_archive'))\n",
    "    for f_to_move in move_files:\n",
    "        print(f_to_move, target_dir)\n",
    "#         shutil.move(f_to_move, target_dir)"
   ]
  },
  {
   "cell_type": "markdown",
   "metadata": {},
   "source": [
    "### 2. Compress image files to harddrive"
   ]
  },
  {
   "cell_type": "code",
   "execution_count": 5,
   "metadata": {},
   "outputs": [
    {
     "name": "stdout",
     "output_type": "stream",
     "text": [
      "Days to compress on hub BS2: 38\n",
      "from: /Volumes/TOSHIBA-18/H6-black/BS2/img-downsized-32 to: /Volumes/SAMSUNG-4/H6/H6_BS2_IMAGES\n",
      "done compressing  /Volumes/SAMSUNG-4/H6/H6_BS2_IMAGES\n",
      "Days to compress on hub BS3: 38\n",
      "from: /Volumes/TOSHIBA-18/H6-black/BS3/img-downsized-32 to: /Volumes/SAMSUNG-4/H6/H6_BS3_IMAGES\n",
      "done compressing  /Volumes/SAMSUNG-4/H6/H6_BS3_IMAGES\n",
      "Days to compress on hub BS4: 38\n",
      "from: /Volumes/TOSHIBA-18/H6-black/BS4/img-downsized-32 to: /Volumes/SAMSUNG-4/H6/H6_BS4_IMAGES\n",
      "done compressing  /Volumes/SAMSUNG-4/H6/H6_BS4_IMAGES\n",
      "Days to compress on hub BS5: 38\n",
      "from: /Volumes/TOSHIBA-18/H6-black/BS5/img-downsized-32 to: /Volumes/SAMSUNG-4/H6/H6_BS5_IMAGES\n",
      "done compressing  /Volumes/SAMSUNG-4/H6/H6_BS5_IMAGES\n"
     ]
    }
   ],
   "source": [
    "\n",
    "for hub_path in hub_paths:\n",
    "    img_path = os.path.join(hub_path, 'img-downsized-32')\n",
    "    hub = os.path.basename(hub_path)\n",
    "    print(f'Days to compress on hub {hub}: {len(glob(os.path.join(img_path, \"2019-*\")))}')\n",
    "    to_compress = img_path\n",
    "    destination = os.path.join(dest_for_compressed, home, f'{home}_{hub}_IMAGES')\n",
    "    print(f'from: {to_compress} to: {destination}')\n",
    "    shutil.make_archive(destination, 'zip', to_compress)\n",
    "    print('done compressing ', destination)\n"
   ]
  },
  {
   "cell_type": "markdown",
   "metadata": {},
   "source": [
    "***\n",
    "## C. Audio\n",
    "Final audio files, stored as csv, should be in form:  \n",
    "`HOME_AUDIO.zip/HOME_HUB_AUDIO/date/minute/date_time_hub_home_.csv` <br>\n",
    "where `date`, `minute`, and `time` are `YYYY-mm-dd`, `hhmm`, and `hhmmss`, respectively.\n",
    "\n",
    "1. Copy the day-wise audio files (stored in `hub_path`) to same structured files stored in the `local_save_path`. \n",
    "2. Compress the final folder with all hubs to `dest_for_compressed`.\n",
    "\n"
   ]
  },
  {
   "cell_type": "markdown",
   "metadata": {},
   "source": [
    "### 1. Combine hub-folders for audio into one folder"
   ]
  },
  {
   "cell_type": "code",
   "execution_count": 6,
   "metadata": {
    "collapsed": true,
    "jupyter": {
     "outputs_hidden": true
    }
   },
   "outputs": [
    {
     "name": "stdout",
     "output_type": "stream",
     "text": [
      "/Volumes/TOSHIBA-18/H6-black/BS2\n",
      "BS2 38 38\n",
      "from: /Volumes/TOSHIBA-18/H6-black/BS2/processed_audio/audio_csv/2019-10-12 to: /Users/maggie/Desktop/HDstorage/H6/H6_AUDIO/H6_BS2_AUDIO/2019-10-12\n",
      "from: /Volumes/TOSHIBA-18/H6-black/BS2/processed_audio/audio_csv/2019-10-13 to: /Users/maggie/Desktop/HDstorage/H6/H6_AUDIO/H6_BS2_AUDIO/2019-10-13\n",
      "from: /Volumes/TOSHIBA-18/H6-black/BS2/processed_audio/audio_csv/2019-10-14 to: /Users/maggie/Desktop/HDstorage/H6/H6_AUDIO/H6_BS2_AUDIO/2019-10-14\n",
      "from: /Volumes/TOSHIBA-18/H6-black/BS2/processed_audio/audio_csv/2019-10-15 to: /Users/maggie/Desktop/HDstorage/H6/H6_AUDIO/H6_BS2_AUDIO/2019-10-15\n",
      "from: /Volumes/TOSHIBA-18/H6-black/BS2/processed_audio/audio_csv/2019-10-16 to: /Users/maggie/Desktop/HDstorage/H6/H6_AUDIO/H6_BS2_AUDIO/2019-10-16\n",
      "from: /Volumes/TOSHIBA-18/H6-black/BS2/processed_audio/audio_csv/2019-10-17 to: /Users/maggie/Desktop/HDstorage/H6/H6_AUDIO/H6_BS2_AUDIO/2019-10-17\n",
      "from: /Volumes/TOSHIBA-18/H6-black/BS2/processed_audio/audio_csv/2019-10-18 to: /Users/maggie/Desktop/HDstorage/H6/H6_AUDIO/H6_BS2_AUDIO/2019-10-18\n",
      "from: /Volumes/TOSHIBA-18/H6-black/BS2/processed_audio/audio_csv/2019-10-19 to: /Users/maggie/Desktop/HDstorage/H6/H6_AUDIO/H6_BS2_AUDIO/2019-10-19\n",
      "from: /Volumes/TOSHIBA-18/H6-black/BS2/processed_audio/audio_csv/2019-10-20 to: /Users/maggie/Desktop/HDstorage/H6/H6_AUDIO/H6_BS2_AUDIO/2019-10-20\n",
      "from: /Volumes/TOSHIBA-18/H6-black/BS2/processed_audio/audio_csv/2019-10-21 to: /Users/maggie/Desktop/HDstorage/H6/H6_AUDIO/H6_BS2_AUDIO/2019-10-21\n",
      "from: /Volumes/TOSHIBA-18/H6-black/BS2/processed_audio/audio_csv/2019-10-22 to: /Users/maggie/Desktop/HDstorage/H6/H6_AUDIO/H6_BS2_AUDIO/2019-10-22\n",
      "from: /Volumes/TOSHIBA-18/H6-black/BS2/processed_audio/audio_csv/2019-10-23 to: /Users/maggie/Desktop/HDstorage/H6/H6_AUDIO/H6_BS2_AUDIO/2019-10-23\n",
      "from: /Volumes/TOSHIBA-18/H6-black/BS2/processed_audio/audio_csv/2019-10-24 to: /Users/maggie/Desktop/HDstorage/H6/H6_AUDIO/H6_BS2_AUDIO/2019-10-24\n",
      "from: /Volumes/TOSHIBA-18/H6-black/BS2/processed_audio/audio_csv/2019-10-25 to: /Users/maggie/Desktop/HDstorage/H6/H6_AUDIO/H6_BS2_AUDIO/2019-10-25\n",
      "from: /Volumes/TOSHIBA-18/H6-black/BS2/processed_audio/audio_csv/2019-10-26 to: /Users/maggie/Desktop/HDstorage/H6/H6_AUDIO/H6_BS2_AUDIO/2019-10-26\n",
      "from: /Volumes/TOSHIBA-18/H6-black/BS2/processed_audio/audio_csv/2019-10-27 to: /Users/maggie/Desktop/HDstorage/H6/H6_AUDIO/H6_BS2_AUDIO/2019-10-27\n",
      "from: /Volumes/TOSHIBA-18/H6-black/BS2/processed_audio/audio_csv/2019-10-28 to: /Users/maggie/Desktop/HDstorage/H6/H6_AUDIO/H6_BS2_AUDIO/2019-10-28\n",
      "from: /Volumes/TOSHIBA-18/H6-black/BS2/processed_audio/audio_csv/2019-10-29 to: /Users/maggie/Desktop/HDstorage/H6/H6_AUDIO/H6_BS2_AUDIO/2019-10-29\n",
      "from: /Volumes/TOSHIBA-18/H6-black/BS2/processed_audio/audio_csv/2019-10-30 to: /Users/maggie/Desktop/HDstorage/H6/H6_AUDIO/H6_BS2_AUDIO/2019-10-30\n",
      "from: /Volumes/TOSHIBA-18/H6-black/BS2/processed_audio/audio_csv/2019-10-31 to: /Users/maggie/Desktop/HDstorage/H6/H6_AUDIO/H6_BS2_AUDIO/2019-10-31\n",
      "from: /Volumes/TOSHIBA-18/H6-black/BS2/processed_audio/audio_csv/2019-11-01 to: /Users/maggie/Desktop/HDstorage/H6/H6_AUDIO/H6_BS2_AUDIO/2019-11-01\n",
      "from: /Volumes/TOSHIBA-18/H6-black/BS2/processed_audio/audio_csv/2019-11-02 to: /Users/maggie/Desktop/HDstorage/H6/H6_AUDIO/H6_BS2_AUDIO/2019-11-02\n",
      "from: /Volumes/TOSHIBA-18/H6-black/BS2/processed_audio/audio_csv/2019-11-20 to: /Users/maggie/Desktop/HDstorage/H6/H6_AUDIO/H6_BS2_AUDIO/2019-11-20\n",
      "from: /Volumes/TOSHIBA-18/H6-black/BS2/processed_audio/audio_csv/2019-11-21 to: /Users/maggie/Desktop/HDstorage/H6/H6_AUDIO/H6_BS2_AUDIO/2019-11-21\n",
      "from: /Volumes/TOSHIBA-18/H6-black/BS2/processed_audio/audio_csv/2019-11-22 to: /Users/maggie/Desktop/HDstorage/H6/H6_AUDIO/H6_BS2_AUDIO/2019-11-22\n",
      "from: /Volumes/TOSHIBA-18/H6-black/BS2/processed_audio/audio_csv/2019-11-23 to: /Users/maggie/Desktop/HDstorage/H6/H6_AUDIO/H6_BS2_AUDIO/2019-11-23\n",
      "from: /Volumes/TOSHIBA-18/H6-black/BS2/processed_audio/audio_csv/2019-11-24 to: /Users/maggie/Desktop/HDstorage/H6/H6_AUDIO/H6_BS2_AUDIO/2019-11-24\n",
      "from: /Volumes/TOSHIBA-18/H6-black/BS2/processed_audio/audio_csv/2019-11-25 to: /Users/maggie/Desktop/HDstorage/H6/H6_AUDIO/H6_BS2_AUDIO/2019-11-25\n",
      "from: /Volumes/TOSHIBA-18/H6-black/BS2/processed_audio/audio_csv/2019-11-26 to: /Users/maggie/Desktop/HDstorage/H6/H6_AUDIO/H6_BS2_AUDIO/2019-11-26\n",
      "from: /Volumes/TOSHIBA-18/H6-black/BS2/processed_audio/audio_csv/2019-11-27 to: /Users/maggie/Desktop/HDstorage/H6/H6_AUDIO/H6_BS2_AUDIO/2019-11-27\n",
      "from: /Volumes/TOSHIBA-18/H6-black/BS2/processed_audio/audio_csv/2019-11-28 to: /Users/maggie/Desktop/HDstorage/H6/H6_AUDIO/H6_BS2_AUDIO/2019-11-28\n",
      "from: /Volumes/TOSHIBA-18/H6-black/BS2/processed_audio/audio_csv/2019-11-29 to: /Users/maggie/Desktop/HDstorage/H6/H6_AUDIO/H6_BS2_AUDIO/2019-11-29\n",
      "from: /Volumes/TOSHIBA-18/H6-black/BS2/processed_audio/audio_csv/2019-11-30 to: /Users/maggie/Desktop/HDstorage/H6/H6_AUDIO/H6_BS2_AUDIO/2019-11-30\n",
      "from: /Volumes/TOSHIBA-18/H6-black/BS2/processed_audio/audio_csv/2019-12-01 to: /Users/maggie/Desktop/HDstorage/H6/H6_AUDIO/H6_BS2_AUDIO/2019-12-01\n",
      "from: /Volumes/TOSHIBA-18/H6-black/BS2/processed_audio/audio_csv/2019-12-02 to: /Users/maggie/Desktop/HDstorage/H6/H6_AUDIO/H6_BS2_AUDIO/2019-12-02\n",
      "from: /Volumes/TOSHIBA-18/H6-black/BS2/processed_audio/audio_csv/2019-12-03 to: /Users/maggie/Desktop/HDstorage/H6/H6_AUDIO/H6_BS2_AUDIO/2019-12-03\n",
      "from: /Volumes/TOSHIBA-18/H6-black/BS2/processed_audio/audio_csv/2019-12-04 to: /Users/maggie/Desktop/HDstorage/H6/H6_AUDIO/H6_BS2_AUDIO/2019-12-04\n",
      "from: /Volumes/TOSHIBA-18/H6-black/BS2/processed_audio/audio_csv/2019-12-05 to: /Users/maggie/Desktop/HDstorage/H6/H6_AUDIO/H6_BS2_AUDIO/2019-12-05\n",
      "/Volumes/TOSHIBA-18/H6-black/BS3\n",
      "BS3 38 38\n",
      "from: /Volumes/TOSHIBA-18/H6-black/BS3/processed_audio/audio_csv/2019-10-12 to: /Users/maggie/Desktop/HDstorage/H6/H6_AUDIO/H6_BS3_AUDIO/2019-10-12\n",
      "from: /Volumes/TOSHIBA-18/H6-black/BS3/processed_audio/audio_csv/2019-10-13 to: /Users/maggie/Desktop/HDstorage/H6/H6_AUDIO/H6_BS3_AUDIO/2019-10-13\n",
      "from: /Volumes/TOSHIBA-18/H6-black/BS3/processed_audio/audio_csv/2019-10-14 to: /Users/maggie/Desktop/HDstorage/H6/H6_AUDIO/H6_BS3_AUDIO/2019-10-14\n",
      "from: /Volumes/TOSHIBA-18/H6-black/BS3/processed_audio/audio_csv/2019-10-15 to: /Users/maggie/Desktop/HDstorage/H6/H6_AUDIO/H6_BS3_AUDIO/2019-10-15\n",
      "from: /Volumes/TOSHIBA-18/H6-black/BS3/processed_audio/audio_csv/2019-10-16 to: /Users/maggie/Desktop/HDstorage/H6/H6_AUDIO/H6_BS3_AUDIO/2019-10-16\n",
      "from: /Volumes/TOSHIBA-18/H6-black/BS3/processed_audio/audio_csv/2019-10-17 to: /Users/maggie/Desktop/HDstorage/H6/H6_AUDIO/H6_BS3_AUDIO/2019-10-17\n",
      "from: /Volumes/TOSHIBA-18/H6-black/BS3/processed_audio/audio_csv/2019-10-18 to: /Users/maggie/Desktop/HDstorage/H6/H6_AUDIO/H6_BS3_AUDIO/2019-10-18\n",
      "from: /Volumes/TOSHIBA-18/H6-black/BS3/processed_audio/audio_csv/2019-10-19 to: /Users/maggie/Desktop/HDstorage/H6/H6_AUDIO/H6_BS3_AUDIO/2019-10-19\n",
      "from: /Volumes/TOSHIBA-18/H6-black/BS3/processed_audio/audio_csv/2019-10-20 to: /Users/maggie/Desktop/HDstorage/H6/H6_AUDIO/H6_BS3_AUDIO/2019-10-20\n",
      "from: /Volumes/TOSHIBA-18/H6-black/BS3/processed_audio/audio_csv/2019-10-21 to: /Users/maggie/Desktop/HDstorage/H6/H6_AUDIO/H6_BS3_AUDIO/2019-10-21\n",
      "from: /Volumes/TOSHIBA-18/H6-black/BS3/processed_audio/audio_csv/2019-10-22 to: /Users/maggie/Desktop/HDstorage/H6/H6_AUDIO/H6_BS3_AUDIO/2019-10-22\n",
      "from: /Volumes/TOSHIBA-18/H6-black/BS3/processed_audio/audio_csv/2019-10-23 to: /Users/maggie/Desktop/HDstorage/H6/H6_AUDIO/H6_BS3_AUDIO/2019-10-23\n",
      "from: /Volumes/TOSHIBA-18/H6-black/BS3/processed_audio/audio_csv/2019-10-24 to: /Users/maggie/Desktop/HDstorage/H6/H6_AUDIO/H6_BS3_AUDIO/2019-10-24\n",
      "from: /Volumes/TOSHIBA-18/H6-black/BS3/processed_audio/audio_csv/2019-10-25 to: /Users/maggie/Desktop/HDstorage/H6/H6_AUDIO/H6_BS3_AUDIO/2019-10-25\n",
      "from: /Volumes/TOSHIBA-18/H6-black/BS3/processed_audio/audio_csv/2019-10-26 to: /Users/maggie/Desktop/HDstorage/H6/H6_AUDIO/H6_BS3_AUDIO/2019-10-26\n",
      "from: /Volumes/TOSHIBA-18/H6-black/BS3/processed_audio/audio_csv/2019-10-27 to: /Users/maggie/Desktop/HDstorage/H6/H6_AUDIO/H6_BS3_AUDIO/2019-10-27\n",
      "from: /Volumes/TOSHIBA-18/H6-black/BS3/processed_audio/audio_csv/2019-10-28 to: /Users/maggie/Desktop/HDstorage/H6/H6_AUDIO/H6_BS3_AUDIO/2019-10-28\n",
      "from: /Volumes/TOSHIBA-18/H6-black/BS3/processed_audio/audio_csv/2019-10-29 to: /Users/maggie/Desktop/HDstorage/H6/H6_AUDIO/H6_BS3_AUDIO/2019-10-29\n",
      "from: /Volumes/TOSHIBA-18/H6-black/BS3/processed_audio/audio_csv/2019-10-30 to: /Users/maggie/Desktop/HDstorage/H6/H6_AUDIO/H6_BS3_AUDIO/2019-10-30\n",
      "from: /Volumes/TOSHIBA-18/H6-black/BS3/processed_audio/audio_csv/2019-10-31 to: /Users/maggie/Desktop/HDstorage/H6/H6_AUDIO/H6_BS3_AUDIO/2019-10-31\n",
      "from: /Volumes/TOSHIBA-18/H6-black/BS3/processed_audio/audio_csv/2019-11-01 to: /Users/maggie/Desktop/HDstorage/H6/H6_AUDIO/H6_BS3_AUDIO/2019-11-01\n",
      "from: /Volumes/TOSHIBA-18/H6-black/BS3/processed_audio/audio_csv/2019-11-02 to: /Users/maggie/Desktop/HDstorage/H6/H6_AUDIO/H6_BS3_AUDIO/2019-11-02\n",
      "from: /Volumes/TOSHIBA-18/H6-black/BS3/processed_audio/audio_csv/2019-11-20 to: /Users/maggie/Desktop/HDstorage/H6/H6_AUDIO/H6_BS3_AUDIO/2019-11-20\n",
      "from: /Volumes/TOSHIBA-18/H6-black/BS3/processed_audio/audio_csv/2019-11-21 to: /Users/maggie/Desktop/HDstorage/H6/H6_AUDIO/H6_BS3_AUDIO/2019-11-21\n",
      "from: /Volumes/TOSHIBA-18/H6-black/BS3/processed_audio/audio_csv/2019-11-22 to: /Users/maggie/Desktop/HDstorage/H6/H6_AUDIO/H6_BS3_AUDIO/2019-11-22\n",
      "from: /Volumes/TOSHIBA-18/H6-black/BS3/processed_audio/audio_csv/2019-11-23 to: /Users/maggie/Desktop/HDstorage/H6/H6_AUDIO/H6_BS3_AUDIO/2019-11-23\n",
      "from: /Volumes/TOSHIBA-18/H6-black/BS3/processed_audio/audio_csv/2019-11-24 to: /Users/maggie/Desktop/HDstorage/H6/H6_AUDIO/H6_BS3_AUDIO/2019-11-24\n",
      "from: /Volumes/TOSHIBA-18/H6-black/BS3/processed_audio/audio_csv/2019-11-25 to: /Users/maggie/Desktop/HDstorage/H6/H6_AUDIO/H6_BS3_AUDIO/2019-11-25\n",
      "from: /Volumes/TOSHIBA-18/H6-black/BS3/processed_audio/audio_csv/2019-11-26 to: /Users/maggie/Desktop/HDstorage/H6/H6_AUDIO/H6_BS3_AUDIO/2019-11-26\n",
      "from: /Volumes/TOSHIBA-18/H6-black/BS3/processed_audio/audio_csv/2019-11-27 to: /Users/maggie/Desktop/HDstorage/H6/H6_AUDIO/H6_BS3_AUDIO/2019-11-27\n",
      "from: /Volumes/TOSHIBA-18/H6-black/BS3/processed_audio/audio_csv/2019-11-28 to: /Users/maggie/Desktop/HDstorage/H6/H6_AUDIO/H6_BS3_AUDIO/2019-11-28\n",
      "from: /Volumes/TOSHIBA-18/H6-black/BS3/processed_audio/audio_csv/2019-11-29 to: /Users/maggie/Desktop/HDstorage/H6/H6_AUDIO/H6_BS3_AUDIO/2019-11-29\n",
      "from: /Volumes/TOSHIBA-18/H6-black/BS3/processed_audio/audio_csv/2019-11-30 to: /Users/maggie/Desktop/HDstorage/H6/H6_AUDIO/H6_BS3_AUDIO/2019-11-30\n",
      "from: /Volumes/TOSHIBA-18/H6-black/BS3/processed_audio/audio_csv/2019-12-01 to: /Users/maggie/Desktop/HDstorage/H6/H6_AUDIO/H6_BS3_AUDIO/2019-12-01\n",
      "from: /Volumes/TOSHIBA-18/H6-black/BS3/processed_audio/audio_csv/2019-12-02 to: /Users/maggie/Desktop/HDstorage/H6/H6_AUDIO/H6_BS3_AUDIO/2019-12-02\n",
      "from: /Volumes/TOSHIBA-18/H6-black/BS3/processed_audio/audio_csv/2019-12-03 to: /Users/maggie/Desktop/HDstorage/H6/H6_AUDIO/H6_BS3_AUDIO/2019-12-03\n",
      "from: /Volumes/TOSHIBA-18/H6-black/BS3/processed_audio/audio_csv/2019-12-04 to: /Users/maggie/Desktop/HDstorage/H6/H6_AUDIO/H6_BS3_AUDIO/2019-12-04\n",
      "from: /Volumes/TOSHIBA-18/H6-black/BS3/processed_audio/audio_csv/2019-12-05 to: /Users/maggie/Desktop/HDstorage/H6/H6_AUDIO/H6_BS3_AUDIO/2019-12-05\n",
      "/Volumes/TOSHIBA-18/H6-black/BS4\n",
      "BS4 38 38\n",
      "from: /Volumes/TOSHIBA-18/H6-black/BS4/processed_audio/audio_csv/2019-10-12 to: /Users/maggie/Desktop/HDstorage/H6/H6_AUDIO/H6_BS4_AUDIO/2019-10-12\n",
      "from: /Volumes/TOSHIBA-18/H6-black/BS4/processed_audio/audio_csv/2019-10-13 to: /Users/maggie/Desktop/HDstorage/H6/H6_AUDIO/H6_BS4_AUDIO/2019-10-13\n",
      "from: /Volumes/TOSHIBA-18/H6-black/BS4/processed_audio/audio_csv/2019-10-14 to: /Users/maggie/Desktop/HDstorage/H6/H6_AUDIO/H6_BS4_AUDIO/2019-10-14\n",
      "from: /Volumes/TOSHIBA-18/H6-black/BS4/processed_audio/audio_csv/2019-10-15 to: /Users/maggie/Desktop/HDstorage/H6/H6_AUDIO/H6_BS4_AUDIO/2019-10-15\n",
      "from: /Volumes/TOSHIBA-18/H6-black/BS4/processed_audio/audio_csv/2019-10-16 to: /Users/maggie/Desktop/HDstorage/H6/H6_AUDIO/H6_BS4_AUDIO/2019-10-16\n",
      "from: /Volumes/TOSHIBA-18/H6-black/BS4/processed_audio/audio_csv/2019-10-17 to: /Users/maggie/Desktop/HDstorage/H6/H6_AUDIO/H6_BS4_AUDIO/2019-10-17\n",
      "from: /Volumes/TOSHIBA-18/H6-black/BS4/processed_audio/audio_csv/2019-10-18 to: /Users/maggie/Desktop/HDstorage/H6/H6_AUDIO/H6_BS4_AUDIO/2019-10-18\n",
      "from: /Volumes/TOSHIBA-18/H6-black/BS4/processed_audio/audio_csv/2019-10-19 to: /Users/maggie/Desktop/HDstorage/H6/H6_AUDIO/H6_BS4_AUDIO/2019-10-19\n",
      "from: /Volumes/TOSHIBA-18/H6-black/BS4/processed_audio/audio_csv/2019-10-20 to: /Users/maggie/Desktop/HDstorage/H6/H6_AUDIO/H6_BS4_AUDIO/2019-10-20\n",
      "from: /Volumes/TOSHIBA-18/H6-black/BS4/processed_audio/audio_csv/2019-10-21 to: /Users/maggie/Desktop/HDstorage/H6/H6_AUDIO/H6_BS4_AUDIO/2019-10-21\n",
      "from: /Volumes/TOSHIBA-18/H6-black/BS4/processed_audio/audio_csv/2019-10-22 to: /Users/maggie/Desktop/HDstorage/H6/H6_AUDIO/H6_BS4_AUDIO/2019-10-22\n",
      "from: /Volumes/TOSHIBA-18/H6-black/BS4/processed_audio/audio_csv/2019-10-23 to: /Users/maggie/Desktop/HDstorage/H6/H6_AUDIO/H6_BS4_AUDIO/2019-10-23\n",
      "from: /Volumes/TOSHIBA-18/H6-black/BS4/processed_audio/audio_csv/2019-10-24 to: /Users/maggie/Desktop/HDstorage/H6/H6_AUDIO/H6_BS4_AUDIO/2019-10-24\n",
      "from: /Volumes/TOSHIBA-18/H6-black/BS4/processed_audio/audio_csv/2019-10-25 to: /Users/maggie/Desktop/HDstorage/H6/H6_AUDIO/H6_BS4_AUDIO/2019-10-25\n",
      "from: /Volumes/TOSHIBA-18/H6-black/BS4/processed_audio/audio_csv/2019-10-26 to: /Users/maggie/Desktop/HDstorage/H6/H6_AUDIO/H6_BS4_AUDIO/2019-10-26\n",
      "from: /Volumes/TOSHIBA-18/H6-black/BS4/processed_audio/audio_csv/2019-10-27 to: /Users/maggie/Desktop/HDstorage/H6/H6_AUDIO/H6_BS4_AUDIO/2019-10-27\n",
      "from: /Volumes/TOSHIBA-18/H6-black/BS4/processed_audio/audio_csv/2019-10-28 to: /Users/maggie/Desktop/HDstorage/H6/H6_AUDIO/H6_BS4_AUDIO/2019-10-28\n",
      "from: /Volumes/TOSHIBA-18/H6-black/BS4/processed_audio/audio_csv/2019-10-29 to: /Users/maggie/Desktop/HDstorage/H6/H6_AUDIO/H6_BS4_AUDIO/2019-10-29\n",
      "from: /Volumes/TOSHIBA-18/H6-black/BS4/processed_audio/audio_csv/2019-10-30 to: /Users/maggie/Desktop/HDstorage/H6/H6_AUDIO/H6_BS4_AUDIO/2019-10-30\n",
      "from: /Volumes/TOSHIBA-18/H6-black/BS4/processed_audio/audio_csv/2019-10-31 to: /Users/maggie/Desktop/HDstorage/H6/H6_AUDIO/H6_BS4_AUDIO/2019-10-31\n",
      "from: /Volumes/TOSHIBA-18/H6-black/BS4/processed_audio/audio_csv/2019-11-01 to: /Users/maggie/Desktop/HDstorage/H6/H6_AUDIO/H6_BS4_AUDIO/2019-11-01\n",
      "from: /Volumes/TOSHIBA-18/H6-black/BS4/processed_audio/audio_csv/2019-11-02 to: /Users/maggie/Desktop/HDstorage/H6/H6_AUDIO/H6_BS4_AUDIO/2019-11-02\n",
      "from: /Volumes/TOSHIBA-18/H6-black/BS4/processed_audio/audio_csv/2019-11-20 to: /Users/maggie/Desktop/HDstorage/H6/H6_AUDIO/H6_BS4_AUDIO/2019-11-20\n",
      "from: /Volumes/TOSHIBA-18/H6-black/BS4/processed_audio/audio_csv/2019-11-21 to: /Users/maggie/Desktop/HDstorage/H6/H6_AUDIO/H6_BS4_AUDIO/2019-11-21\n",
      "from: /Volumes/TOSHIBA-18/H6-black/BS4/processed_audio/audio_csv/2019-11-22 to: /Users/maggie/Desktop/HDstorage/H6/H6_AUDIO/H6_BS4_AUDIO/2019-11-22\n",
      "from: /Volumes/TOSHIBA-18/H6-black/BS4/processed_audio/audio_csv/2019-11-23 to: /Users/maggie/Desktop/HDstorage/H6/H6_AUDIO/H6_BS4_AUDIO/2019-11-23\n",
      "from: /Volumes/TOSHIBA-18/H6-black/BS4/processed_audio/audio_csv/2019-11-24 to: /Users/maggie/Desktop/HDstorage/H6/H6_AUDIO/H6_BS4_AUDIO/2019-11-24\n",
      "from: /Volumes/TOSHIBA-18/H6-black/BS4/processed_audio/audio_csv/2019-11-25 to: /Users/maggie/Desktop/HDstorage/H6/H6_AUDIO/H6_BS4_AUDIO/2019-11-25\n",
      "from: /Volumes/TOSHIBA-18/H6-black/BS4/processed_audio/audio_csv/2019-11-26 to: /Users/maggie/Desktop/HDstorage/H6/H6_AUDIO/H6_BS4_AUDIO/2019-11-26\n",
      "from: /Volumes/TOSHIBA-18/H6-black/BS4/processed_audio/audio_csv/2019-11-27 to: /Users/maggie/Desktop/HDstorage/H6/H6_AUDIO/H6_BS4_AUDIO/2019-11-27\n",
      "from: /Volumes/TOSHIBA-18/H6-black/BS4/processed_audio/audio_csv/2019-11-28 to: /Users/maggie/Desktop/HDstorage/H6/H6_AUDIO/H6_BS4_AUDIO/2019-11-28\n",
      "from: /Volumes/TOSHIBA-18/H6-black/BS4/processed_audio/audio_csv/2019-11-29 to: /Users/maggie/Desktop/HDstorage/H6/H6_AUDIO/H6_BS4_AUDIO/2019-11-29\n",
      "from: /Volumes/TOSHIBA-18/H6-black/BS4/processed_audio/audio_csv/2019-11-30 to: /Users/maggie/Desktop/HDstorage/H6/H6_AUDIO/H6_BS4_AUDIO/2019-11-30\n",
      "from: /Volumes/TOSHIBA-18/H6-black/BS4/processed_audio/audio_csv/2019-12-01 to: /Users/maggie/Desktop/HDstorage/H6/H6_AUDIO/H6_BS4_AUDIO/2019-12-01\n",
      "from: /Volumes/TOSHIBA-18/H6-black/BS4/processed_audio/audio_csv/2019-12-02 to: /Users/maggie/Desktop/HDstorage/H6/H6_AUDIO/H6_BS4_AUDIO/2019-12-02\n",
      "from: /Volumes/TOSHIBA-18/H6-black/BS4/processed_audio/audio_csv/2019-12-03 to: /Users/maggie/Desktop/HDstorage/H6/H6_AUDIO/H6_BS4_AUDIO/2019-12-03\n",
      "from: /Volumes/TOSHIBA-18/H6-black/BS4/processed_audio/audio_csv/2019-12-04 to: /Users/maggie/Desktop/HDstorage/H6/H6_AUDIO/H6_BS4_AUDIO/2019-12-04\n",
      "from: /Volumes/TOSHIBA-18/H6-black/BS4/processed_audio/audio_csv/2019-12-05 to: /Users/maggie/Desktop/HDstorage/H6/H6_AUDIO/H6_BS4_AUDIO/2019-12-05\n",
      "/Volumes/TOSHIBA-18/H6-black/BS5\n",
      "BS5 38 38\n",
      "from: /Volumes/TOSHIBA-18/H6-black/BS5/processed_audio/audio_csv/2019-10-12 to: /Users/maggie/Desktop/HDstorage/H6/H6_AUDIO/H6_BS5_AUDIO/2019-10-12\n",
      "from: /Volumes/TOSHIBA-18/H6-black/BS5/processed_audio/audio_csv/2019-10-13 to: /Users/maggie/Desktop/HDstorage/H6/H6_AUDIO/H6_BS5_AUDIO/2019-10-13\n",
      "from: /Volumes/TOSHIBA-18/H6-black/BS5/processed_audio/audio_csv/2019-10-14 to: /Users/maggie/Desktop/HDstorage/H6/H6_AUDIO/H6_BS5_AUDIO/2019-10-14\n",
      "from: /Volumes/TOSHIBA-18/H6-black/BS5/processed_audio/audio_csv/2019-10-15 to: /Users/maggie/Desktop/HDstorage/H6/H6_AUDIO/H6_BS5_AUDIO/2019-10-15\n",
      "from: /Volumes/TOSHIBA-18/H6-black/BS5/processed_audio/audio_csv/2019-10-16 to: /Users/maggie/Desktop/HDstorage/H6/H6_AUDIO/H6_BS5_AUDIO/2019-10-16\n",
      "from: /Volumes/TOSHIBA-18/H6-black/BS5/processed_audio/audio_csv/2019-10-17 to: /Users/maggie/Desktop/HDstorage/H6/H6_AUDIO/H6_BS5_AUDIO/2019-10-17\n",
      "from: /Volumes/TOSHIBA-18/H6-black/BS5/processed_audio/audio_csv/2019-10-18 to: /Users/maggie/Desktop/HDstorage/H6/H6_AUDIO/H6_BS5_AUDIO/2019-10-18\n",
      "from: /Volumes/TOSHIBA-18/H6-black/BS5/processed_audio/audio_csv/2019-10-19 to: /Users/maggie/Desktop/HDstorage/H6/H6_AUDIO/H6_BS5_AUDIO/2019-10-19\n",
      "from: /Volumes/TOSHIBA-18/H6-black/BS5/processed_audio/audio_csv/2019-10-20 to: /Users/maggie/Desktop/HDstorage/H6/H6_AUDIO/H6_BS5_AUDIO/2019-10-20\n",
      "from: /Volumes/TOSHIBA-18/H6-black/BS5/processed_audio/audio_csv/2019-10-21 to: /Users/maggie/Desktop/HDstorage/H6/H6_AUDIO/H6_BS5_AUDIO/2019-10-21\n",
      "from: /Volumes/TOSHIBA-18/H6-black/BS5/processed_audio/audio_csv/2019-10-22 to: /Users/maggie/Desktop/HDstorage/H6/H6_AUDIO/H6_BS5_AUDIO/2019-10-22\n",
      "from: /Volumes/TOSHIBA-18/H6-black/BS5/processed_audio/audio_csv/2019-10-23 to: /Users/maggie/Desktop/HDstorage/H6/H6_AUDIO/H6_BS5_AUDIO/2019-10-23\n",
      "from: /Volumes/TOSHIBA-18/H6-black/BS5/processed_audio/audio_csv/2019-10-24 to: /Users/maggie/Desktop/HDstorage/H6/H6_AUDIO/H6_BS5_AUDIO/2019-10-24\n",
      "from: /Volumes/TOSHIBA-18/H6-black/BS5/processed_audio/audio_csv/2019-10-25 to: /Users/maggie/Desktop/HDstorage/H6/H6_AUDIO/H6_BS5_AUDIO/2019-10-25\n",
      "from: /Volumes/TOSHIBA-18/H6-black/BS5/processed_audio/audio_csv/2019-10-26 to: /Users/maggie/Desktop/HDstorage/H6/H6_AUDIO/H6_BS5_AUDIO/2019-10-26\n",
      "from: /Volumes/TOSHIBA-18/H6-black/BS5/processed_audio/audio_csv/2019-10-27 to: /Users/maggie/Desktop/HDstorage/H6/H6_AUDIO/H6_BS5_AUDIO/2019-10-27\n",
      "from: /Volumes/TOSHIBA-18/H6-black/BS5/processed_audio/audio_csv/2019-10-28 to: /Users/maggie/Desktop/HDstorage/H6/H6_AUDIO/H6_BS5_AUDIO/2019-10-28\n",
      "from: /Volumes/TOSHIBA-18/H6-black/BS5/processed_audio/audio_csv/2019-10-29 to: /Users/maggie/Desktop/HDstorage/H6/H6_AUDIO/H6_BS5_AUDIO/2019-10-29\n",
      "from: /Volumes/TOSHIBA-18/H6-black/BS5/processed_audio/audio_csv/2019-10-30 to: /Users/maggie/Desktop/HDstorage/H6/H6_AUDIO/H6_BS5_AUDIO/2019-10-30\n",
      "from: /Volumes/TOSHIBA-18/H6-black/BS5/processed_audio/audio_csv/2019-10-31 to: /Users/maggie/Desktop/HDstorage/H6/H6_AUDIO/H6_BS5_AUDIO/2019-10-31\n",
      "from: /Volumes/TOSHIBA-18/H6-black/BS5/processed_audio/audio_csv/2019-11-01 to: /Users/maggie/Desktop/HDstorage/H6/H6_AUDIO/H6_BS5_AUDIO/2019-11-01\n",
      "from: /Volumes/TOSHIBA-18/H6-black/BS5/processed_audio/audio_csv/2019-11-02 to: /Users/maggie/Desktop/HDstorage/H6/H6_AUDIO/H6_BS5_AUDIO/2019-11-02\n",
      "from: /Volumes/TOSHIBA-18/H6-black/BS5/processed_audio/audio_csv/2019-11-20 to: /Users/maggie/Desktop/HDstorage/H6/H6_AUDIO/H6_BS5_AUDIO/2019-11-20\n",
      "from: /Volumes/TOSHIBA-18/H6-black/BS5/processed_audio/audio_csv/2019-11-21 to: /Users/maggie/Desktop/HDstorage/H6/H6_AUDIO/H6_BS5_AUDIO/2019-11-21\n",
      "from: /Volumes/TOSHIBA-18/H6-black/BS5/processed_audio/audio_csv/2019-11-22 to: /Users/maggie/Desktop/HDstorage/H6/H6_AUDIO/H6_BS5_AUDIO/2019-11-22\n",
      "from: /Volumes/TOSHIBA-18/H6-black/BS5/processed_audio/audio_csv/2019-11-23 to: /Users/maggie/Desktop/HDstorage/H6/H6_AUDIO/H6_BS5_AUDIO/2019-11-23\n",
      "from: /Volumes/TOSHIBA-18/H6-black/BS5/processed_audio/audio_csv/2019-11-24 to: /Users/maggie/Desktop/HDstorage/H6/H6_AUDIO/H6_BS5_AUDIO/2019-11-24\n",
      "from: /Volumes/TOSHIBA-18/H6-black/BS5/processed_audio/audio_csv/2019-11-25 to: /Users/maggie/Desktop/HDstorage/H6/H6_AUDIO/H6_BS5_AUDIO/2019-11-25\n",
      "from: /Volumes/TOSHIBA-18/H6-black/BS5/processed_audio/audio_csv/2019-11-26 to: /Users/maggie/Desktop/HDstorage/H6/H6_AUDIO/H6_BS5_AUDIO/2019-11-26\n",
      "from: /Volumes/TOSHIBA-18/H6-black/BS5/processed_audio/audio_csv/2019-11-27 to: /Users/maggie/Desktop/HDstorage/H6/H6_AUDIO/H6_BS5_AUDIO/2019-11-27\n",
      "from: /Volumes/TOSHIBA-18/H6-black/BS5/processed_audio/audio_csv/2019-11-28 to: /Users/maggie/Desktop/HDstorage/H6/H6_AUDIO/H6_BS5_AUDIO/2019-11-28\n",
      "from: /Volumes/TOSHIBA-18/H6-black/BS5/processed_audio/audio_csv/2019-11-29 to: /Users/maggie/Desktop/HDstorage/H6/H6_AUDIO/H6_BS5_AUDIO/2019-11-29\n",
      "from: /Volumes/TOSHIBA-18/H6-black/BS5/processed_audio/audio_csv/2019-11-30 to: /Users/maggie/Desktop/HDstorage/H6/H6_AUDIO/H6_BS5_AUDIO/2019-11-30\n",
      "from: /Volumes/TOSHIBA-18/H6-black/BS5/processed_audio/audio_csv/2019-12-01 to: /Users/maggie/Desktop/HDstorage/H6/H6_AUDIO/H6_BS5_AUDIO/2019-12-01\n",
      "from: /Volumes/TOSHIBA-18/H6-black/BS5/processed_audio/audio_csv/2019-12-02 to: /Users/maggie/Desktop/HDstorage/H6/H6_AUDIO/H6_BS5_AUDIO/2019-12-02\n",
      "from: /Volumes/TOSHIBA-18/H6-black/BS5/processed_audio/audio_csv/2019-12-03 to: /Users/maggie/Desktop/HDstorage/H6/H6_AUDIO/H6_BS5_AUDIO/2019-12-03\n",
      "from: /Volumes/TOSHIBA-18/H6-black/BS5/processed_audio/audio_csv/2019-12-04 to: /Users/maggie/Desktop/HDstorage/H6/H6_AUDIO/H6_BS5_AUDIO/2019-12-04\n",
      "from: /Volumes/TOSHIBA-18/H6-black/BS5/processed_audio/audio_csv/2019-12-05 to: /Users/maggie/Desktop/HDstorage/H6/H6_AUDIO/H6_BS5_AUDIO/2019-12-05\n"
     ]
    }
   ],
   "source": [
    "\n",
    "for hub_path in hub_paths:\n",
    "    print(hub_path)\n",
    "    hub = os.path.basename(hub_path.strip('/'))\n",
    "    day_dirs = glob(os.path.join(hub_path, 'processed_audio', 'audio_csv', '2019-*'))\n",
    "    copy_dirs = [d for d in day_dirs if os.path.basename(d) in all_days]\n",
    "    print(hub, len(day_dirs), len(copy_dirs))\n",
    "    target_dir = make_storage_directory(os.path.join(local_save_path, home, f'{home}_AUDIO', f'{home}_{hub}_AUDIO'))\n",
    "    for c_dir in copy_dirs:\n",
    "        date = os.path.basename(c_dir)\n",
    "        fname = os.path.join(target_dir, date)\n",
    "        print(f'from: {c_dir} to: {fname}')\n",
    "        shutil.copytree(c_dir, fname)"
   ]
  },
  {
   "cell_type": "markdown",
   "metadata": {},
   "source": [
    "### 2. Compress audio files to harddrive"
   ]
  },
  {
   "cell_type": "code",
   "execution_count": 7,
   "metadata": {},
   "outputs": [
    {
     "name": "stdout",
     "output_type": "stream",
     "text": [
      "from: /Users/maggie/Desktop/HDstorage/H6/H6_AUDIO to: /Volumes/SAMSUNG-4/H6/H6_AUDIO\n"
     ]
    },
    {
     "data": {
      "text/plain": [
       "'/Volumes/SAMSUNG-4/H6/H6_AUDIO.zip'"
      ]
     },
     "execution_count": 7,
     "metadata": {},
     "output_type": "execute_result"
    }
   ],
   "source": [
    "\n",
    "to_compress = os.path.join(local_save_path, home, f'{home}_AUDIO')\n",
    "destination = os.path.join(dest_for_compressed, home, os.path.basename(to_compress.strip('/')))\n",
    "\n",
    "print(f'from: {to_compress} to: {destination}')\n",
    "shutil.make_archive(destination, 'zip', to_compress)\n",
    "\n",
    "\n",
    "# to_compress = os.path.join(directory_path, home, f'{home}_ENVIRONMENTAL')\n",
    "# destination = os.path.join(dest_for_compressed, home, os.path.basename(to_compress.strip('/')))\n",
    "\n",
    "# print(f'from: {to_compress} to: {destination}')\n",
    "# shutil.make_archive(destination, 'zip', to_compress)\n"
   ]
  },
  {
   "cell_type": "markdown",
   "metadata": {},
   "source": [
    "***\n",
    "## D. Environmental\n",
    "1. Copy over to 'local_save_path`. Also need to change filename to match conventions\n",
    "2. Compress the final folder with all hubs to `dest_for_compressed`."
   ]
  },
  {
   "cell_type": "markdown",
   "metadata": {},
   "source": [
    "### 1. Copy while changing names to match other conventions"
   ]
  },
  {
   "cell_type": "code",
   "execution_count": 8,
   "metadata": {},
   "outputs": [
    {
     "name": "stdout",
     "output_type": "stream",
     "text": [
      "BS2 64 38\n",
      "/Users/maggie/Desktop/HDstorage/H6/H6_ENVIRONMENTAL/H6_BS2_ENV\n",
      "BS3 64 38\n",
      "/Users/maggie/Desktop/HDstorage/H6/H6_ENVIRONMENTAL/H6_BS3_ENV\n",
      "BS4 64 38\n",
      "/Users/maggie/Desktop/HDstorage/H6/H6_ENVIRONMENTAL/H6_BS4_ENV\n",
      "BS5 64 38\n",
      "/Users/maggie/Desktop/HDstorage/H6/H6_ENVIRONMENTAL/H6_BS5_ENV\n"
     ]
    }
   ],
   "source": [
    "\n",
    "\n",
    "for hub_path in hub_paths:\n",
    "    hub = os.path.basename(hub_path.strip('/'))\n",
    "    day_files = glob(os.path.join(hub_path, 'processed_env', 'CSV-raw', '*.csv'))\n",
    "    copy_files = [f for f in day_files if os.path.basename(f).split('_')[2].rstrip('.csv') in all_days]\n",
    "    print(hub, len(day_files), len(copy_files))\n",
    "    target_dir = make_storage_directory(os.path.join(local_save_path, home, f'{home}_ENVIRONMENTAL', f'{home}_{hub}_ENV'))\n",
    "    print(target_dir)\n",
    "    for f in copy_files:\n",
    "        date = os.path.basename(f).split('_')[2].rstrip('.csv')\n",
    "        fname = os.path.join(target_dir, f'{date}_{hub}_{home}_env.csv')\n",
    "        shutil.copy(f, fname)\n"
   ]
  },
  {
   "cell_type": "markdown",
   "metadata": {},
   "source": [
    "### 2. Compress env to harddrive"
   ]
  },
  {
   "cell_type": "code",
   "execution_count": 16,
   "metadata": {},
   "outputs": [
    {
     "name": "stdout",
     "output_type": "stream",
     "text": [
      "/Users/maggie/Desktop/HDstorage/\n",
      "['/Users/maggie/Desktop/HDstorage/H1', '/Users/maggie/Desktop/HDstorage/H2', '/Users/maggie/Desktop/HDstorage/H3', '/Users/maggie/Desktop/HDstorage/H4', '/Users/maggie/Desktop/HDstorage/H5', '/Users/maggie/Desktop/HDstorage/H6']\n",
      "from: /Users/maggie/Desktop/HDstorage/H1/H1_ENVIRONMENTAL to: /Volumes/SAMSUNG-4/H1/H1_ENVIRONMENTAL\n",
      "from: /Users/maggie/Desktop/HDstorage/H2/H2_ENVIRONMENTAL to: /Volumes/SAMSUNG-4/H2/H2_ENVIRONMENTAL\n",
      "from: /Users/maggie/Desktop/HDstorage/H3/H3_ENVIRONMENTAL to: /Volumes/SAMSUNG-4/H3/H3_ENVIRONMENTAL\n",
      "from: /Users/maggie/Desktop/HDstorage/H4/H4_ENVIRONMENTAL to: /Volumes/SAMSUNG-4/H4/H4_ENVIRONMENTAL\n",
      "from: /Users/maggie/Desktop/HDstorage/H5/H5_ENVIRONMENTAL to: /Volumes/SAMSUNG-4/H5/H5_ENVIRONMENTAL\n",
      "from: /Users/maggie/Desktop/HDstorage/H6/H6_ENVIRONMENTAL to: /Volumes/SAMSUNG-4/H6/H6_ENVIRONMENTAL\n"
     ]
    }
   ],
   "source": [
    "print(local_save_path)\n",
    "homes = sorted(glob(os.path.join(local_save_path, 'H*')))\n",
    "print(homes)\n",
    "for home in homes:\n",
    "    home = os.path.basename(home)\n",
    "               \n",
    "\n",
    "    to_compress = os.path.join(local_save_path, home, f'{home}_ENVIRONMENTAL')\n",
    "    destination = os.path.join(dest_for_compressed, home, os.path.basename(to_compress.strip('/')))\n",
    "\n",
    "    print(f'from: {to_compress} to: {destination}')\n",
    "    shutil.make_archive(destination, 'zip', to_compress)"
   ]
  },
  {
   "cell_type": "markdown",
   "metadata": {},
   "source": [
    "***\n",
    "## E. Ground Truth\n",
    "Final ground truth files, stored as csv, should be in form:  \n",
    "`HOME_GROUNDTRUTH.zip/date/date_home_groundtruth.csv` <br>\n",
    "\n",
    "1. Copy the day-wise ground truth files (stored in `hub_path`) to `local_save_path`. \n",
    "2. Compress the final folder with all hubs to `dest_for_compressed`."
   ]
  },
  {
   "cell_type": "markdown",
   "metadata": {},
   "source": [
    "### 1. Copy over relevant days"
   ]
  },
  {
   "cell_type": "code",
   "execution_count": 12,
   "metadata": {
    "collapsed": true,
    "jupyter": {
     "outputs_hidden": true
    }
   },
   "outputs": [
    {
     "name": "stdout",
     "output_type": "stream",
     "text": [
      "38\n",
      "/Volumes/TOSHIBA-18/H6-black/GroundTruth/GroundTruth/2019-10-12_H6_groundtruth.csv /Users/maggie/Desktop/HDstorage/H6/H6_GROUNDTRUTH/2019-10-12_H6_groundtruth.csv\n",
      "/Volumes/TOSHIBA-18/H6-black/GroundTruth/GroundTruth/2019-10-13_H6_groundtruth.csv /Users/maggie/Desktop/HDstorage/H6/H6_GROUNDTRUTH/2019-10-13_H6_groundtruth.csv\n",
      "/Volumes/TOSHIBA-18/H6-black/GroundTruth/GroundTruth/2019-10-14_H6_groundtruth.csv /Users/maggie/Desktop/HDstorage/H6/H6_GROUNDTRUTH/2019-10-14_H6_groundtruth.csv\n",
      "/Volumes/TOSHIBA-18/H6-black/GroundTruth/GroundTruth/2019-10-15_H6_groundtruth.csv /Users/maggie/Desktop/HDstorage/H6/H6_GROUNDTRUTH/2019-10-15_H6_groundtruth.csv\n",
      "/Volumes/TOSHIBA-18/H6-black/GroundTruth/GroundTruth/2019-10-16_H6_groundtruth.csv /Users/maggie/Desktop/HDstorage/H6/H6_GROUNDTRUTH/2019-10-16_H6_groundtruth.csv\n",
      "/Volumes/TOSHIBA-18/H6-black/GroundTruth/GroundTruth/2019-10-17_H6_groundtruth.csv /Users/maggie/Desktop/HDstorage/H6/H6_GROUNDTRUTH/2019-10-17_H6_groundtruth.csv\n",
      "/Volumes/TOSHIBA-18/H6-black/GroundTruth/GroundTruth/2019-10-18_H6_groundtruth.csv /Users/maggie/Desktop/HDstorage/H6/H6_GROUNDTRUTH/2019-10-18_H6_groundtruth.csv\n",
      "/Volumes/TOSHIBA-18/H6-black/GroundTruth/GroundTruth/2019-10-19_H6_groundtruth.csv /Users/maggie/Desktop/HDstorage/H6/H6_GROUNDTRUTH/2019-10-19_H6_groundtruth.csv\n",
      "/Volumes/TOSHIBA-18/H6-black/GroundTruth/GroundTruth/2019-10-20_H6_groundtruth.csv /Users/maggie/Desktop/HDstorage/H6/H6_GROUNDTRUTH/2019-10-20_H6_groundtruth.csv\n",
      "/Volumes/TOSHIBA-18/H6-black/GroundTruth/GroundTruth/2019-10-21_H6_groundtruth.csv /Users/maggie/Desktop/HDstorage/H6/H6_GROUNDTRUTH/2019-10-21_H6_groundtruth.csv\n",
      "/Volumes/TOSHIBA-18/H6-black/GroundTruth/GroundTruth/2019-10-22_H6_groundtruth.csv /Users/maggie/Desktop/HDstorage/H6/H6_GROUNDTRUTH/2019-10-22_H6_groundtruth.csv\n",
      "/Volumes/TOSHIBA-18/H6-black/GroundTruth/GroundTruth/2019-10-23_H6_groundtruth.csv /Users/maggie/Desktop/HDstorage/H6/H6_GROUNDTRUTH/2019-10-23_H6_groundtruth.csv\n",
      "/Volumes/TOSHIBA-18/H6-black/GroundTruth/GroundTruth/2019-10-24_H6_groundtruth.csv /Users/maggie/Desktop/HDstorage/H6/H6_GROUNDTRUTH/2019-10-24_H6_groundtruth.csv\n",
      "/Volumes/TOSHIBA-18/H6-black/GroundTruth/GroundTruth/2019-10-25_H6_groundtruth.csv /Users/maggie/Desktop/HDstorage/H6/H6_GROUNDTRUTH/2019-10-25_H6_groundtruth.csv\n",
      "/Volumes/TOSHIBA-18/H6-black/GroundTruth/GroundTruth/2019-10-26_H6_groundtruth.csv /Users/maggie/Desktop/HDstorage/H6/H6_GROUNDTRUTH/2019-10-26_H6_groundtruth.csv\n",
      "/Volumes/TOSHIBA-18/H6-black/GroundTruth/GroundTruth/2019-10-27_H6_groundtruth.csv /Users/maggie/Desktop/HDstorage/H6/H6_GROUNDTRUTH/2019-10-27_H6_groundtruth.csv\n",
      "/Volumes/TOSHIBA-18/H6-black/GroundTruth/GroundTruth/2019-10-28_H6_groundtruth.csv /Users/maggie/Desktop/HDstorage/H6/H6_GROUNDTRUTH/2019-10-28_H6_groundtruth.csv\n",
      "/Volumes/TOSHIBA-18/H6-black/GroundTruth/GroundTruth/2019-10-29_H6_groundtruth.csv /Users/maggie/Desktop/HDstorage/H6/H6_GROUNDTRUTH/2019-10-29_H6_groundtruth.csv\n",
      "/Volumes/TOSHIBA-18/H6-black/GroundTruth/GroundTruth/2019-10-30_H6_groundtruth.csv /Users/maggie/Desktop/HDstorage/H6/H6_GROUNDTRUTH/2019-10-30_H6_groundtruth.csv\n",
      "/Volumes/TOSHIBA-18/H6-black/GroundTruth/GroundTruth/2019-10-31_H6_groundtruth.csv /Users/maggie/Desktop/HDstorage/H6/H6_GROUNDTRUTH/2019-10-31_H6_groundtruth.csv\n",
      "/Volumes/TOSHIBA-18/H6-black/GroundTruth/GroundTruth/2019-11-01_H6_groundtruth.csv /Users/maggie/Desktop/HDstorage/H6/H6_GROUNDTRUTH/2019-11-01_H6_groundtruth.csv\n",
      "/Volumes/TOSHIBA-18/H6-black/GroundTruth/GroundTruth/2019-11-02_H6_groundtruth.csv /Users/maggie/Desktop/HDstorage/H6/H6_GROUNDTRUTH/2019-11-02_H6_groundtruth.csv\n",
      "/Volumes/TOSHIBA-18/H6-black/GroundTruth/GroundTruth/2019-11-20_H6_groundtruth.csv /Users/maggie/Desktop/HDstorage/H6/H6_GROUNDTRUTH/2019-11-20_H6_groundtruth.csv\n",
      "/Volumes/TOSHIBA-18/H6-black/GroundTruth/GroundTruth/2019-11-21_H6_groundtruth.csv /Users/maggie/Desktop/HDstorage/H6/H6_GROUNDTRUTH/2019-11-21_H6_groundtruth.csv\n",
      "/Volumes/TOSHIBA-18/H6-black/GroundTruth/GroundTruth/2019-11-22_H6_groundtruth.csv /Users/maggie/Desktop/HDstorage/H6/H6_GROUNDTRUTH/2019-11-22_H6_groundtruth.csv\n",
      "/Volumes/TOSHIBA-18/H6-black/GroundTruth/GroundTruth/2019-11-23_H6_groundtruth.csv /Users/maggie/Desktop/HDstorage/H6/H6_GROUNDTRUTH/2019-11-23_H6_groundtruth.csv\n",
      "/Volumes/TOSHIBA-18/H6-black/GroundTruth/GroundTruth/2019-11-24_H6_groundtruth.csv /Users/maggie/Desktop/HDstorage/H6/H6_GROUNDTRUTH/2019-11-24_H6_groundtruth.csv\n",
      "/Volumes/TOSHIBA-18/H6-black/GroundTruth/GroundTruth/2019-11-25_H6_groundtruth.csv /Users/maggie/Desktop/HDstorage/H6/H6_GROUNDTRUTH/2019-11-25_H6_groundtruth.csv\n",
      "/Volumes/TOSHIBA-18/H6-black/GroundTruth/GroundTruth/2019-11-26_H6_groundtruth.csv /Users/maggie/Desktop/HDstorage/H6/H6_GROUNDTRUTH/2019-11-26_H6_groundtruth.csv\n",
      "/Volumes/TOSHIBA-18/H6-black/GroundTruth/GroundTruth/2019-11-27_H6_groundtruth.csv /Users/maggie/Desktop/HDstorage/H6/H6_GROUNDTRUTH/2019-11-27_H6_groundtruth.csv\n",
      "/Volumes/TOSHIBA-18/H6-black/GroundTruth/GroundTruth/2019-11-28_H6_groundtruth.csv /Users/maggie/Desktop/HDstorage/H6/H6_GROUNDTRUTH/2019-11-28_H6_groundtruth.csv\n",
      "/Volumes/TOSHIBA-18/H6-black/GroundTruth/GroundTruth/2019-11-29_H6_groundtruth.csv /Users/maggie/Desktop/HDstorage/H6/H6_GROUNDTRUTH/2019-11-29_H6_groundtruth.csv\n",
      "/Volumes/TOSHIBA-18/H6-black/GroundTruth/GroundTruth/2019-11-30_H6_groundtruth.csv /Users/maggie/Desktop/HDstorage/H6/H6_GROUNDTRUTH/2019-11-30_H6_groundtruth.csv\n",
      "/Volumes/TOSHIBA-18/H6-black/GroundTruth/GroundTruth/2019-12-01_H6_groundtruth.csv /Users/maggie/Desktop/HDstorage/H6/H6_GROUNDTRUTH/2019-12-01_H6_groundtruth.csv\n",
      "/Volumes/TOSHIBA-18/H6-black/GroundTruth/GroundTruth/2019-12-02_H6_groundtruth.csv /Users/maggie/Desktop/HDstorage/H6/H6_GROUNDTRUTH/2019-12-02_H6_groundtruth.csv\n",
      "/Volumes/TOSHIBA-18/H6-black/GroundTruth/GroundTruth/2019-12-03_H6_groundtruth.csv /Users/maggie/Desktop/HDstorage/H6/H6_GROUNDTRUTH/2019-12-03_H6_groundtruth.csv\n",
      "/Volumes/TOSHIBA-18/H6-black/GroundTruth/GroundTruth/2019-12-04_H6_groundtruth.csv /Users/maggie/Desktop/HDstorage/H6/H6_GROUNDTRUTH/2019-12-04_H6_groundtruth.csv\n",
      "/Volumes/TOSHIBA-18/H6-black/GroundTruth/GroundTruth/2019-12-05_H6_groundtruth.csv /Users/maggie/Desktop/HDstorage/H6/H6_GROUNDTRUTH/2019-12-05_H6_groundtruth.csv\n"
     ]
    }
   ],
   "source": [
    "day_files = glob(os.path.join(from_path, 'GroundTruth/GroundTruth', '*_groundtruth.csv'))\n",
    "\n",
    "copy_files = [f for f in day_files if os.path.basename(f).split('_')[0] in all_days]\n",
    "save_loc = make_storage_directory(os.path.join(local_save_path, home, f'{home}_GROUNDTRUTH'))\n",
    "print(len(copy_files))\n",
    "\n",
    "for f in copy_files:\n",
    "    dest_fname = os.path.join(save_loc, os.path.basename(f))\n",
    "    print(f, dest_fname)\n",
    "    shutil.copy(f, dest_fname)\n"
   ]
  },
  {
   "cell_type": "markdown",
   "metadata": {},
   "source": [
    "### 2. Compress all days"
   ]
  },
  {
   "cell_type": "code",
   "execution_count": 13,
   "metadata": {},
   "outputs": [
    {
     "name": "stdout",
     "output_type": "stream",
     "text": [
      "from: /Users/maggie/Desktop/HDstorage/H6/H6_GROUNDTRUTH to: /Volumes/SAMSUNG-4/H6/H6_GROUNDTRUTH\n"
     ]
    },
    {
     "data": {
      "text/plain": [
       "'/Volumes/SAMSUNG-4/H6/H6_GROUNDTRUTH.zip'"
      ]
     },
     "execution_count": 13,
     "metadata": {},
     "output_type": "execute_result"
    }
   ],
   "source": [
    "to_compress = os.path.join(local_save_path, home, f'{home}_GROUNDTRUTH')\n",
    "destination = os.path.join(dest_for_compressed, home, os.path.basename(to_compress.strip('/')))\n",
    "\n",
    "print(f'from: {to_compress} to: {destination}')\n",
    "shutil.make_archive(destination, 'zip', to_compress)\n"
   ]
  },
  {
   "cell_type": "markdown",
   "metadata": {},
   "source": [
    "***\n",
    "### H2 - dark image investigation"
   ]
  },
  {
   "cell_type": "code",
   "execution_count": null,
   "metadata": {},
   "outputs": [],
   "source": [
    "import pandas as pd"
   ]
  },
  {
   "cell_type": "code",
   "execution_count": 32,
   "metadata": {
    "collapsed": true,
    "jupyter": {
     "outputs_hidden": true
    }
   },
   "outputs": [
    {
     "name": "stdout",
     "output_type": "stream",
     "text": [
      "['/Volumes/TOSHIBA-22/H2-red/Summaries/H2-RS1-img-summary.txt', '/Volumes/TOSHIBA-22/H2-red/Summaries/H2-RS2-img-summary.txt', '/Volumes/TOSHIBA-22/H2-red/Summaries/H2-RS4-img-summary.txt', '/Volumes/TOSHIBA-22/H2-red/Summaries/H2-RS5-img-summary.txt']\n",
      "            RS1_Capt  RS1_Dark  RS1_Img  RS2_Capt  RS2_Dark  RS2_Img  \\\n",
      "2019-03-01       NaN       NaN      NaN      0.27      0.00      NaN   \n",
      "2019-03-02       NaN       NaN      NaN      1.00      0.21      NaN   \n",
      "2019-03-03       NaN       NaN      NaN      1.00      0.09      NaN   \n",
      "2019-03-04       NaN       NaN      NaN      1.00      0.48      NaN   \n",
      "2019-03-05       NaN       NaN      NaN      1.00      0.25      NaN   \n",
      "2019-03-06       NaN       NaN      NaN      1.00      0.25      NaN   \n",
      "2019-03-07       NaN       NaN      NaN      1.00      0.20      NaN   \n",
      "2019-03-08       NaN       NaN      NaN      1.00      0.00      NaN   \n",
      "2019-03-09       NaN       NaN      NaN      1.00      0.21      NaN   \n",
      "2019-03-10       NaN       NaN      NaN      0.96      0.17      NaN   \n",
      "2019-03-11       NaN       NaN      NaN      0.52      0.21      NaN   \n",
      "2019-03-12      0.09      0.09      NaN      0.26      0.00      NaN   \n",
      "2019-03-13      0.88      0.25     0.75      1.00      0.22     0.78   \n",
      "2019-03-14      0.96      0.37     0.63      1.00      0.35     0.65   \n",
      "2019-03-15      1.00      0.37     0.63      1.00      0.35     0.65   \n",
      "2019-03-16      1.00      0.30     0.70      1.00      0.29     0.71   \n",
      "2019-03-17      1.00      0.32     0.68      1.00      0.20     0.80   \n",
      "2019-03-18      1.00      0.44     0.56      1.00      0.23     0.77   \n",
      "2019-03-19      1.00      0.30     0.70      1.00      0.04     0.96   \n",
      "2019-03-20      1.00      0.40     0.60      1.00      0.35     0.65   \n",
      "2019-03-21      1.00      0.49     0.51      1.00      0.47     0.53   \n",
      "2019-03-22      1.00      0.29     0.71      1.00      0.27     0.73   \n",
      "2019-03-23      1.00      0.14     0.86      1.00      0.13     0.87   \n",
      "2019-03-24      1.00      0.09     0.91      1.00      0.00     1.00   \n",
      "2019-03-25      1.00      0.40     0.60      1.00      0.17     0.83   \n",
      "2019-03-26      0.99      0.23     0.76      0.93      0.17     0.76   \n",
      "2019-03-27      1.00      0.11     0.89      1.00      0.09     0.91   \n",
      "2019-03-28      1.00      0.24     0.76      1.00      0.23     0.77   \n",
      "2019-03-29      1.00      0.44     0.56      0.66      0.25     0.41   \n",
      "2019-03-30      1.00      0.24      NaN      0.26      0.07      NaN   \n",
      "2019-03-31      1.00      0.14      NaN      0.18      0.02      NaN   \n",
      "2019-04-01      1.00      0.20      NaN      0.17      0.03      NaN   \n",
      "2019-04-02      0.83      0.15      NaN      0.16      0.02      NaN   \n",
      "\n",
      "            RS4_Capt  RS4_Dark  RS4_Img  RS5_Capt  RS5_Dark  RS5_Img  \n",
      "2019-03-01      0.20       0.0      NaN       NaN       NaN      NaN  \n",
      "2019-03-02       NaN       NaN      NaN       NaN       NaN      NaN  \n",
      "2019-03-03       NaN       NaN      NaN       NaN       NaN      NaN  \n",
      "2019-03-04       NaN       NaN      NaN       NaN       NaN      NaN  \n",
      "2019-03-05       NaN       NaN      NaN       NaN       NaN      NaN  \n",
      "2019-03-06       NaN       NaN      NaN       NaN       NaN      NaN  \n",
      "2019-03-07       NaN       NaN      NaN      1.00      0.20      NaN  \n",
      "2019-03-08       NaN       NaN      NaN      1.00      0.00      NaN  \n",
      "2019-03-09       NaN       NaN      NaN      1.00      0.20      NaN  \n",
      "2019-03-10       NaN       NaN      NaN      0.96      0.16      NaN  \n",
      "2019-03-11       NaN       NaN      NaN      0.52      0.20      NaN  \n",
      "2019-03-12      0.26       0.0      NaN      0.20      0.00      NaN  \n",
      "2019-03-13      1.00       0.0     1.00      1.00      0.24     0.76  \n",
      "2019-03-14      1.00       0.0     1.00      1.00      0.35     0.65  \n",
      "2019-03-15      1.00       0.0     1.00      1.00      0.35     0.65  \n",
      "2019-03-16      1.00       0.0     1.00      1.00      0.29     0.71  \n",
      "2019-03-17      1.00       0.0     1.00      1.00      0.20     0.80  \n",
      "2019-03-18      1.00       0.0     1.00      1.00      0.23     0.77  \n",
      "2019-03-19      1.00       0.0     1.00      1.00      0.04     0.96  \n",
      "2019-03-20      1.00       0.0     1.00      1.00      0.35     0.65  \n",
      "2019-03-21      1.00       0.0     1.00      1.00      0.47     0.53  \n",
      "2019-03-22      1.00       0.0     1.00      1.00      0.27     0.73  \n",
      "2019-03-23      1.00       0.0     1.00      1.00      0.13     0.87  \n",
      "2019-03-24      1.00       0.0     1.00      1.00      0.00     1.00  \n",
      "2019-03-25      1.00       0.0     1.00      1.00      0.17     0.83  \n",
      "2019-03-26      0.99       0.0     0.99      0.98      0.18     0.80  \n",
      "2019-03-27      1.00       0.0     1.00      1.00      0.10     0.90  \n",
      "2019-03-28      1.00       0.0     1.00      1.00      0.22     0.78  \n",
      "2019-03-29      1.00       0.0     1.00      1.00      0.35     0.65  \n",
      "2019-03-30      1.00       0.0      NaN      1.00      0.23      NaN  \n",
      "2019-03-31      1.00       0.0      NaN      1.00      0.12      NaN  \n",
      "2019-04-01      1.00       0.0      NaN      1.00      0.19      NaN  \n",
      "2019-04-02      0.84       0.0      NaN      0.84      0.13      NaN  \n"
     ]
    }
   ],
   "source": [
    "summaries = glob('/Volumes/TOSHIBA-22/H2-red/Summaries/*-img-summary.txt')\n",
    "print(summaries)\n",
    "\n",
    "img_csv_summary = '/Users/maggie/Desktop/image_df_counts.csv'\n",
    "\n",
    "summary_df = pd.read_csv(img_csv_summary, index_col='Unnamed: 0')\n",
    "\n",
    "hub_dfs = []\n",
    "for txtfile in summaries:\n",
    "    txt_df = pd.read_csv(txtfile, delimiter=' ', usecols=['day', '%Capt', '%Dark'], index_col='day')\n",
    "#     print(txt_df.columns)\n",
    "    hub = os.path.basename(txtfile).split('-')[1]\n",
    "#     print(hub)\n",
    "    col_names = [f'{hub}_Capt', f'{hub}_Dark']\n",
    "    txt_df.columns = col_names\n",
    "    hub_dfs.append(txt_df)\n",
    "\n",
    "hub_dfs.append(summary_df)\n",
    "all_df = pd.concat(hub_dfs, axis=1)\n",
    "all_df = all_df.reindex(sorted(all_df.columns), axis=1)\n",
    "all_df = all_df.sort_index(axis=0)\n",
    "print(all_df)\n",
    "\n",
    "all_df.to_csv('/Users/maggie/Desktop/H2_all_images_summary.csv')\n",
    "    \n",
    "    "
   ]
  },
  {
   "cell_type": "markdown",
   "metadata": {},
   "source": [
    "***\n",
    "## F. Write Zone Labels for Images\n",
    "Create zone labels for images based on the probabilities generated, should be in form:  \n",
    "`H1_ZONELABELS.zip/H1_RS1_ZONELABELS/2019-11-06_RS1_H1_zonelabels.csv` <br>\n",
    "\n",
    "1. Read in inference csvs and create new zone labeled csvs\n",
    "2. Move day files not part of DB to archive folder\n",
    "3. Compress files"
   ]
  },
  {
   "cell_type": "markdown",
   "metadata": {},
   "source": [
    "### 1. Read in inference csvs and create new zone labeled csvs\n"
   ]
  },
  {
   "cell_type": "code",
   "execution_count": 24,
   "metadata": {},
   "outputs": [
    {
     "name": "stdout",
     "output_type": "stream",
     "text": [
      "52 30\n",
      "52 30\n",
      "52 30\n",
      "52 30\n",
      "52 30\n",
      "22 17\n",
      "33 17\n",
      "23 17\n",
      "27 17\n",
      "45 35\n",
      "45 35\n",
      "41 35\n",
      "51 35\n",
      "51 35\n",
      "23 17\n",
      "30 17\n",
      "30 17\n",
      "29 17\n",
      "32 17\n",
      "29 15\n",
      "29 15\n",
      "29 15\n",
      "19 15\n",
      "24 15\n",
      "58 38\n",
      "64 38\n",
      "64 38\n",
      "64 38\n"
     ]
    }
   ],
   "source": [
    "inf_db = '/Users/maggie/Desktop/InferenceDB/'\n",
    "for home in sorted(glob(os.path.join(inf_db, 'H*'))):\n",
    "    H_num = os.path.basename(home).split('-')[0]\n",
    "    hubs = sorted(glob(os.path.join(home, '*S*')))\n",
    "    all_days = get_date_list(read_file=start_end_file, H_num=H_num)\n",
    "    \n",
    "    for hub in hubs:\n",
    "        hub_name = os.path.basename(hub)\n",
    "        all_imgs = sorted(glob(os.path.join(hub, 'img_1sec', '*.csv')))\n",
    "\n",
    "        img_infs = [f for f in all_imgs if os.path.basename(f).strip('.csv') in all_days]\n",
    "        print(len(all_imgs), len(img_infs))\n",
    "        \n",
    "        for csv in img_infs:\n",
    "            day = os.path.basename(csv).strip('.csv')\n",
    "            \n",
    "            inf = pd.read_csv(csv, index_col='timestamp', usecols=['timestamp', 'probability'])\n",
    "            inf['occupied'] = ''\n",
    "            inf.loc[inf['probability'] > 0.3, 'occupied'] = 1\n",
    "            inf.loc[inf['probability'] <= 0.3, 'occupied'] = 0\n",
    "\n",
    "            save_dir = os.path.join(local_save_path, H_num, f'{H_num}_ZONELABELS', f'{H_num}_{hub_name}_ZONELABELS')\n",
    "            os.makedirs(save_dir, exist_ok=True)\n",
    "            fname = f'{day}_{hub_name}_{H_num}_zonelabels.csv'\n",
    "            \n",
    "            inf.to_csv(os.path.join(save_dir, fname), index='timestamp', columns=['occupied'])"
   ]
  },
  {
   "cell_type": "markdown",
   "metadata": {},
   "source": [
    "### 2. Move day files not part of DB to archive folder"
   ]
  },
  {
   "cell_type": "code",
   "execution_count": 8,
   "metadata": {},
   "outputs": [
    {
     "name": "stdout",
     "output_type": "stream",
     "text": [
      "30\n",
      "17\n",
      "35\n",
      "17\n",
      "15\n",
      "38\n"
     ]
    }
   ],
   "source": [
    "os.chdir('/Users/maggie/Desktop/')\n",
    "\n",
    "for home in sorted(glob(os.path.join(local_save_path, 'H*'))):\n",
    "    H_num = os.path.basename(home)\n",
    "    \n",
    "    all_days = get_date_list(read_file=start_end_file, H_num=H_num)\n",
    "    print(len(all_days))\n",
    "#     break\n",
    "\n",
    "#     hub_paths = sorted(glob(os.path.join(home, 'H*_ZONELABELS', 'H*_ZONELABELS')))\n",
    "\n",
    "#     for hub_path in hub_paths:\n",
    "#         hub = os.path.basename(hub_path.split('_')[1])\n",
    "#         day_files = sorted(glob(os.path.join(hub_path, '*.csv')))\n",
    "#         move_files = [f for f in day_files if os.path.basename(f).split('_')[0] not in all_days]\n",
    "#         print(hub, len(day_files), len(move_files))\n",
    "\n",
    "#         target_dir = make_storage_directory(os.path.join('/Users/maggie/Desktop/moved_zonelabels', H_num))\n",
    "#         for f_to_move in move_files:\n",
    "#             print(f_to_move, target_dir)\n",
    "#             shutil.move(f_to_move, target_dir)\n"
   ]
  },
  {
   "cell_type": "code",
   "execution_count": 60,
   "metadata": {},
   "outputs": [
    {
     "name": "stdout",
     "output_type": "stream",
     "text": [
      "/Users/maggie/Desktop/HDstorage/\n",
      "['/Users/maggie/Desktop/HDstorage/H1', '/Users/maggie/Desktop/HDstorage/H2', '/Users/maggie/Desktop/HDstorage/H3', '/Users/maggie/Desktop/HDstorage/H4', '/Users/maggie/Desktop/HDstorage/H5', '/Users/maggie/Desktop/HDstorage/H6']\n",
      "from: /Users/maggie/Desktop/HDstorage/H1/H1_ZONELABELS to: /Volumes/SAMSUNG-4/H1/H1_ZONELABELS\n",
      "from: /Users/maggie/Desktop/HDstorage/H2/H2_ZONELABELS to: /Volumes/SAMSUNG-4/H2/H2_ZONELABELS\n",
      "from: /Users/maggie/Desktop/HDstorage/H3/H3_ZONELABELS to: /Volumes/SAMSUNG-4/H3/H3_ZONELABELS\n",
      "from: /Users/maggie/Desktop/HDstorage/H4/H4_ZONELABELS to: /Volumes/SAMSUNG-4/H4/H4_ZONELABELS\n",
      "from: /Users/maggie/Desktop/HDstorage/H5/H5_ZONELABELS to: /Volumes/SAMSUNG-4/H5/H5_ZONELABELS\n",
      "from: /Users/maggie/Desktop/HDstorage/H6/H6_ZONELABELS to: /Volumes/SAMSUNG-4/H6/H6_ZONELABELS\n"
     ]
    }
   ],
   "source": [
    "print(local_save_path)\n",
    "homes = sorted(glob(os.path.join(local_save_path, 'H*')))\n",
    "print(homes)\n",
    "for home in homes:\n",
    "    home = os.path.basename(home)\n",
    "               \n",
    "\n",
    "    to_compress = os.path.join(local_save_path, home, f'{home}_ZONELABELS')\n",
    "    destination = os.path.join(dest_for_compressed, home, os.path.basename(to_compress.strip('/')))\n",
    "\n",
    "    print(f'from: {to_compress} to: {destination}')\n",
    "    shutil.make_archive(destination, 'zip', to_compress)"
   ]
  }
 ],
 "metadata": {
  "kernelspec": {
   "display_name": "Python 3",
   "language": "python",
   "name": "python3"
  },
  "language_info": {
   "codemirror_mode": {
    "name": "ipython",
    "version": 3
   },
   "file_extension": ".py",
   "mimetype": "text/x-python",
   "name": "python",
   "nbconvert_exporter": "python",
   "pygments_lexer": "ipython3",
   "version": "3.7.4"
  }
 },
 "nbformat": 4,
 "nbformat_minor": 4
}
