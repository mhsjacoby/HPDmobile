{
 "cells": [
  {
   "cell_type": "code",
   "execution_count": 2,
   "metadata": {},
   "outputs": [],
   "source": [
    "import os\n",
    "import sys\n",
    "import argparse\n",
    "import pandas as pd\n",
    "\n",
    "from glob import glob\n",
    "from natsort import natsorted\n",
    "\n",
    "import shutil\n",
    "\n",
    "from my_functions import *"
   ]
  },
  {
   "cell_type": "code",
   "execution_count": null,
   "metadata": {},
   "outputs": [],
   "source": [
    "    path = args.path\n",
    "\n",
    "    save_loc = args.save\n",
    "    from_hub = args.hub1\n",
    "\n",
    "    hubs = args.all_hubs \n",
    "    audio_type = args.audio_type\n",
    "\n",
    "    home_system = os.path.basename(path.strip('/'))\n",
    "    H = home_system.split('-')\n",
    "    H_num, color = H[0], H[1][0].upper()\n",
    "\n",
    "    copy_loc = os.path.join(save_loc, home_system, audio_type, from_hub)\n",
    "    \n",
    "    for hub in hubs:\n",
    "        print(hub)\n",
    "        save_path = make_storage_directory(os.path.join(save_loc, home_system, f'{hub}_{audio_type}_auto'))\n",
    "\n",
    "        for fname in mylistdir(copy_loc, bit='.wav'):\n",
    "            day, time = fname.strip('_audio.wav').split(' ')\n",
    "            minute_folder = time[:4]\n",
    "            file_path = os.path.join(path, hub, 'audio', day, minute_folder, fname)\n",
    "            from_loc = glob(file_path)\n",
    "\n",
    "            if len(from_loc) > 0:\n",
    "                src = from_loc[0]\n",
    "                dest = os.path.join(save_path, fname)\n",
    "                shutil.copy(src, dest)\n",
    "            else:\n",
    "                print(f'no file in: {file_path}')"
   ]
  },
  {
   "cell_type": "code",
   "execution_count": 11,
   "metadata": {},
   "outputs": [],
   "source": [
    "audio_f = '/Users/maggie/Desktop/H1-Red-Audio-w-folders/RS1_w/*'\n",
    "\n",
    "save_f = make_storage_directory('/Users/maggie/Desktop/Auto_Labeled/H1-Red/RS1')\n",
    "\n",
    "minute_folders = glob(audio_f)\n",
    "\n",
    "for f in minute_folders:\n",
    "    for audio_file in glob(os.path.join(f, '*.wav')):\n",
    "        fname = os.path.basename(audio_file)\n",
    "        dest = os.path.join(save_f, fname)\n",
    "        shutil.copy(audio_file, dest)"
   ]
  }
 ],
 "metadata": {
  "kernelspec": {
   "display_name": "Python 3",
   "language": "python",
   "name": "python3"
  },
  "language_info": {
   "codemirror_mode": {
    "name": "ipython",
    "version": 3
   },
   "file_extension": ".py",
   "mimetype": "text/x-python",
   "name": "python",
   "nbconvert_exporter": "python",
   "pygments_lexer": "ipython3",
   "version": "3.7.4"
  }
 },
 "nbformat": 4,
 "nbformat_minor": 4
}
